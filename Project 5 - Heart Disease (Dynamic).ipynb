{
 "cells": [
  {
   "cell_type": "markdown",
   "metadata": {},
   "source": [
    "# Project 5 - Heart Disease (Dynamic)"
   ]
  },
  {
   "cell_type": "code",
   "execution_count": 1,
   "metadata": {},
   "outputs": [],
   "source": [
    "#data analysis libraries \n",
    "import pandas as pd\n",
    "import numpy as np\n",
    "import datetime\n",
    "\n",
    "#visualization libraries\n",
    "import seaborn as sns\n",
    "import matplotlib.pyplot as plt\n",
    "\n",
    "#ignore warnings\n",
    "import warnings\n",
    "warnings.filterwarnings('ignore')"
   ]
  },
  {
   "cell_type": "code",
   "execution_count": 2,
   "metadata": {},
   "outputs": [
    {
     "data": {
      "text/html": [
       "<div>\n",
       "<style scoped>\n",
       "    .dataframe tbody tr th:only-of-type {\n",
       "        vertical-align: middle;\n",
       "    }\n",
       "\n",
       "    .dataframe tbody tr th {\n",
       "        vertical-align: top;\n",
       "    }\n",
       "\n",
       "    .dataframe thead th {\n",
       "        text-align: right;\n",
       "    }\n",
       "</style>\n",
       "<table border=\"1\" class=\"dataframe\">\n",
       "  <thead>\n",
       "    <tr style=\"text-align: right;\">\n",
       "      <th></th>\n",
       "      <th>0</th>\n",
       "      <th>1</th>\n",
       "      <th>2</th>\n",
       "      <th>3</th>\n",
       "      <th>4</th>\n",
       "      <th>5</th>\n",
       "      <th>6</th>\n",
       "      <th>7</th>\n",
       "      <th>8</th>\n",
       "      <th>9</th>\n",
       "      <th>10</th>\n",
       "      <th>11</th>\n",
       "      <th>12</th>\n",
       "      <th>13</th>\n",
       "    </tr>\n",
       "  </thead>\n",
       "  <tbody>\n",
       "    <tr>\n",
       "      <th>0</th>\n",
       "      <td>63</td>\n",
       "      <td>1</td>\n",
       "      <td>4</td>\n",
       "      <td>140</td>\n",
       "      <td>260</td>\n",
       "      <td>0</td>\n",
       "      <td>1</td>\n",
       "      <td>112</td>\n",
       "      <td>1</td>\n",
       "      <td>3</td>\n",
       "      <td>2</td>\n",
       "      <td>?</td>\n",
       "      <td>?</td>\n",
       "      <td>2</td>\n",
       "    </tr>\n",
       "    <tr>\n",
       "      <th>1</th>\n",
       "      <td>44</td>\n",
       "      <td>1</td>\n",
       "      <td>4</td>\n",
       "      <td>130</td>\n",
       "      <td>209</td>\n",
       "      <td>0</td>\n",
       "      <td>1</td>\n",
       "      <td>127</td>\n",
       "      <td>0</td>\n",
       "      <td>0</td>\n",
       "      <td>?</td>\n",
       "      <td>?</td>\n",
       "      <td>?</td>\n",
       "      <td>0</td>\n",
       "    </tr>\n",
       "    <tr>\n",
       "      <th>2</th>\n",
       "      <td>60</td>\n",
       "      <td>1</td>\n",
       "      <td>4</td>\n",
       "      <td>132</td>\n",
       "      <td>218</td>\n",
       "      <td>0</td>\n",
       "      <td>1</td>\n",
       "      <td>140</td>\n",
       "      <td>1</td>\n",
       "      <td>1.5</td>\n",
       "      <td>3</td>\n",
       "      <td>?</td>\n",
       "      <td>?</td>\n",
       "      <td>2</td>\n",
       "    </tr>\n",
       "    <tr>\n",
       "      <th>3</th>\n",
       "      <td>55</td>\n",
       "      <td>1</td>\n",
       "      <td>4</td>\n",
       "      <td>142</td>\n",
       "      <td>228</td>\n",
       "      <td>0</td>\n",
       "      <td>1</td>\n",
       "      <td>149</td>\n",
       "      <td>1</td>\n",
       "      <td>2.5</td>\n",
       "      <td>1</td>\n",
       "      <td>?</td>\n",
       "      <td>?</td>\n",
       "      <td>1</td>\n",
       "    </tr>\n",
       "    <tr>\n",
       "      <th>4</th>\n",
       "      <td>66</td>\n",
       "      <td>1</td>\n",
       "      <td>3</td>\n",
       "      <td>110</td>\n",
       "      <td>213</td>\n",
       "      <td>1</td>\n",
       "      <td>2</td>\n",
       "      <td>99</td>\n",
       "      <td>1</td>\n",
       "      <td>1.3</td>\n",
       "      <td>2</td>\n",
       "      <td>?</td>\n",
       "      <td>?</td>\n",
       "      <td>0</td>\n",
       "    </tr>\n",
       "    <tr>\n",
       "      <th>...</th>\n",
       "      <td>...</td>\n",
       "      <td>...</td>\n",
       "      <td>...</td>\n",
       "      <td>...</td>\n",
       "      <td>...</td>\n",
       "      <td>...</td>\n",
       "      <td>...</td>\n",
       "      <td>...</td>\n",
       "      <td>...</td>\n",
       "      <td>...</td>\n",
       "      <td>...</td>\n",
       "      <td>...</td>\n",
       "      <td>...</td>\n",
       "      <td>...</td>\n",
       "    </tr>\n",
       "    <tr>\n",
       "      <th>195</th>\n",
       "      <td>54</td>\n",
       "      <td>0</td>\n",
       "      <td>4</td>\n",
       "      <td>127</td>\n",
       "      <td>333</td>\n",
       "      <td>1</td>\n",
       "      <td>1</td>\n",
       "      <td>154</td>\n",
       "      <td>0</td>\n",
       "      <td>0</td>\n",
       "      <td>?</td>\n",
       "      <td>?</td>\n",
       "      <td>?</td>\n",
       "      <td>1</td>\n",
       "    </tr>\n",
       "    <tr>\n",
       "      <th>196</th>\n",
       "      <td>62</td>\n",
       "      <td>1</td>\n",
       "      <td>1</td>\n",
       "      <td>?</td>\n",
       "      <td>139</td>\n",
       "      <td>0</td>\n",
       "      <td>1</td>\n",
       "      <td>?</td>\n",
       "      <td>?</td>\n",
       "      <td>?</td>\n",
       "      <td>?</td>\n",
       "      <td>?</td>\n",
       "      <td>?</td>\n",
       "      <td>0</td>\n",
       "    </tr>\n",
       "    <tr>\n",
       "      <th>197</th>\n",
       "      <td>55</td>\n",
       "      <td>1</td>\n",
       "      <td>4</td>\n",
       "      <td>122</td>\n",
       "      <td>223</td>\n",
       "      <td>1</td>\n",
       "      <td>1</td>\n",
       "      <td>100</td>\n",
       "      <td>0</td>\n",
       "      <td>0</td>\n",
       "      <td>?</td>\n",
       "      <td>?</td>\n",
       "      <td>6</td>\n",
       "      <td>2</td>\n",
       "    </tr>\n",
       "    <tr>\n",
       "      <th>198</th>\n",
       "      <td>58</td>\n",
       "      <td>1</td>\n",
       "      <td>4</td>\n",
       "      <td>?</td>\n",
       "      <td>385</td>\n",
       "      <td>1</td>\n",
       "      <td>2</td>\n",
       "      <td>?</td>\n",
       "      <td>?</td>\n",
       "      <td>?</td>\n",
       "      <td>?</td>\n",
       "      <td>?</td>\n",
       "      <td>?</td>\n",
       "      <td>0</td>\n",
       "    </tr>\n",
       "    <tr>\n",
       "      <th>199</th>\n",
       "      <td>62</td>\n",
       "      <td>1</td>\n",
       "      <td>2</td>\n",
       "      <td>120</td>\n",
       "      <td>254</td>\n",
       "      <td>0</td>\n",
       "      <td>2</td>\n",
       "      <td>93</td>\n",
       "      <td>1</td>\n",
       "      <td>0</td>\n",
       "      <td>?</td>\n",
       "      <td>?</td>\n",
       "      <td>?</td>\n",
       "      <td>1</td>\n",
       "    </tr>\n",
       "  </tbody>\n",
       "</table>\n",
       "<p>200 rows × 14 columns</p>\n",
       "</div>"
      ],
      "text/plain": [
       "     0   1   2    3    4  5   6    7  8    9  10 11 12  13\n",
       "0    63   1   4  140  260  0   1  112  1    3  2  ?  ?   2\n",
       "1    44   1   4  130  209  0   1  127  0    0  ?  ?  ?   0\n",
       "2    60   1   4  132  218  0   1  140  1  1.5  3  ?  ?   2\n",
       "3    55   1   4  142  228  0   1  149  1  2.5  1  ?  ?   1\n",
       "4    66   1   3  110  213  1   2   99  1  1.3  2  ?  ?   0\n",
       "..   ..  ..  ..  ...  ... ..  ..  ... ..  ... .. .. ..  ..\n",
       "195  54   0   4  127  333  1   1  154  0    0  ?  ?  ?   1\n",
       "196  62   1   1    ?  139  0   1    ?  ?    ?  ?  ?  ?   0\n",
       "197  55   1   4  122  223  1   1  100  0    0  ?  ?  6   2\n",
       "198  58   1   4    ?  385  1   2    ?  ?    ?  ?  ?  ?   0\n",
       "199  62   1   2  120  254  0   2   93  1    0  ?  ?  ?   1\n",
       "\n",
       "[200 rows x 14 columns]"
      ]
     },
     "execution_count": 2,
     "metadata": {},
     "output_type": "execute_result"
    }
   ],
   "source": [
    "hd = pd.read_csv('Data/heart_diease.csv', header=None)\n",
    "hd"
   ]
  },
  {
   "cell_type": "code",
   "execution_count": 3,
   "metadata": {},
   "outputs": [],
   "source": [
    "# adding column name to the respective columns\n",
    "hd.columns = ['age','sex','cp','trestbps','chol','fbs','restecg', 'thalach', 'exang', 'oldpeak', 'slope', 'ca', 'thal', 'target']"
   ]
  },
  {
   "cell_type": "code",
   "execution_count": 4,
   "metadata": {},
   "outputs": [
    {
     "data": {
      "text/html": [
       "<div>\n",
       "<style scoped>\n",
       "    .dataframe tbody tr th:only-of-type {\n",
       "        vertical-align: middle;\n",
       "    }\n",
       "\n",
       "    .dataframe tbody tr th {\n",
       "        vertical-align: top;\n",
       "    }\n",
       "\n",
       "    .dataframe thead th {\n",
       "        text-align: right;\n",
       "    }\n",
       "</style>\n",
       "<table border=\"1\" class=\"dataframe\">\n",
       "  <thead>\n",
       "    <tr style=\"text-align: right;\">\n",
       "      <th></th>\n",
       "      <th>age</th>\n",
       "      <th>sex</th>\n",
       "      <th>cp</th>\n",
       "      <th>trestbps</th>\n",
       "      <th>chol</th>\n",
       "      <th>fbs</th>\n",
       "      <th>restecg</th>\n",
       "      <th>thalach</th>\n",
       "      <th>exang</th>\n",
       "      <th>oldpeak</th>\n",
       "      <th>slope</th>\n",
       "      <th>ca</th>\n",
       "      <th>thal</th>\n",
       "      <th>target</th>\n",
       "    </tr>\n",
       "  </thead>\n",
       "  <tbody>\n",
       "    <tr>\n",
       "      <th>0</th>\n",
       "      <td>63</td>\n",
       "      <td>1</td>\n",
       "      <td>4</td>\n",
       "      <td>140</td>\n",
       "      <td>260</td>\n",
       "      <td>0</td>\n",
       "      <td>1</td>\n",
       "      <td>112</td>\n",
       "      <td>1</td>\n",
       "      <td>3</td>\n",
       "      <td>2</td>\n",
       "      <td>?</td>\n",
       "      <td>?</td>\n",
       "      <td>2</td>\n",
       "    </tr>\n",
       "    <tr>\n",
       "      <th>1</th>\n",
       "      <td>44</td>\n",
       "      <td>1</td>\n",
       "      <td>4</td>\n",
       "      <td>130</td>\n",
       "      <td>209</td>\n",
       "      <td>0</td>\n",
       "      <td>1</td>\n",
       "      <td>127</td>\n",
       "      <td>0</td>\n",
       "      <td>0</td>\n",
       "      <td>?</td>\n",
       "      <td>?</td>\n",
       "      <td>?</td>\n",
       "      <td>0</td>\n",
       "    </tr>\n",
       "    <tr>\n",
       "      <th>2</th>\n",
       "      <td>60</td>\n",
       "      <td>1</td>\n",
       "      <td>4</td>\n",
       "      <td>132</td>\n",
       "      <td>218</td>\n",
       "      <td>0</td>\n",
       "      <td>1</td>\n",
       "      <td>140</td>\n",
       "      <td>1</td>\n",
       "      <td>1.5</td>\n",
       "      <td>3</td>\n",
       "      <td>?</td>\n",
       "      <td>?</td>\n",
       "      <td>2</td>\n",
       "    </tr>\n",
       "    <tr>\n",
       "      <th>3</th>\n",
       "      <td>55</td>\n",
       "      <td>1</td>\n",
       "      <td>4</td>\n",
       "      <td>142</td>\n",
       "      <td>228</td>\n",
       "      <td>0</td>\n",
       "      <td>1</td>\n",
       "      <td>149</td>\n",
       "      <td>1</td>\n",
       "      <td>2.5</td>\n",
       "      <td>1</td>\n",
       "      <td>?</td>\n",
       "      <td>?</td>\n",
       "      <td>1</td>\n",
       "    </tr>\n",
       "    <tr>\n",
       "      <th>4</th>\n",
       "      <td>66</td>\n",
       "      <td>1</td>\n",
       "      <td>3</td>\n",
       "      <td>110</td>\n",
       "      <td>213</td>\n",
       "      <td>1</td>\n",
       "      <td>2</td>\n",
       "      <td>99</td>\n",
       "      <td>1</td>\n",
       "      <td>1.3</td>\n",
       "      <td>2</td>\n",
       "      <td>?</td>\n",
       "      <td>?</td>\n",
       "      <td>0</td>\n",
       "    </tr>\n",
       "  </tbody>\n",
       "</table>\n",
       "</div>"
      ],
      "text/plain": [
       "   age  sex  cp trestbps chol fbs  restecg thalach exang oldpeak slope ca  \\\n",
       "0   63    1   4      140  260   0        1     112     1       3     2  ?   \n",
       "1   44    1   4      130  209   0        1     127     0       0     ?  ?   \n",
       "2   60    1   4      132  218   0        1     140     1     1.5     3  ?   \n",
       "3   55    1   4      142  228   0        1     149     1     2.5     1  ?   \n",
       "4   66    1   3      110  213   1        2      99     1     1.3     2  ?   \n",
       "\n",
       "  thal  target  \n",
       "0    ?       2  \n",
       "1    ?       0  \n",
       "2    ?       2  \n",
       "3    ?       1  \n",
       "4    ?       0  "
      ]
     },
     "execution_count": 4,
     "metadata": {},
     "output_type": "execute_result"
    }
   ],
   "source": [
    "hd.head()"
   ]
  },
  {
   "cell_type": "markdown",
   "metadata": {},
   "source": [
    "Gonna describe briefly the columns below\n",
    "\n",
    "age in years\n",
    "\n",
    "sex (1 = male; 0 = female)\n",
    "\n",
    "cp chest pain type(angina)\n",
    "\n",
    "trestbpsm resting blood pressure (in mm Hg on admission to the hospital)\n",
    "\n",
    "chol serum cholestoral in mg/dl\n",
    "\n",
    "fbs (fasting blood sugar > 120 mg/dl) (1 = true; 0 = false)\n",
    "\n",
    "restecgresting electrocardiographic results\n",
    "\n",
    "thalach maximum heart rate achieved\n",
    "\n",
    "exang exercise induced angina (1 = yes; 0 = no)\n",
    "\n",
    "oldpeakST depression induced by exercise relative to rest\n",
    "\n",
    "slope the slope of the peak exercise ST segment\n",
    "\n",
    "ca number of major vessels (0-3) colored by flourosopy\n",
    "\n",
    "thal 3 = normal/ 6 = fixed defect /7 = reversable defect\n",
    "\n",
    "target  0, 1,2,3,4"
   ]
  },
  {
   "cell_type": "code",
   "execution_count": 5,
   "metadata": {},
   "outputs": [
    {
     "name": "stdout",
     "output_type": "stream",
     "text": [
      "i: age and unique: [63 44 60 55 66 65 56 59 62 57 46 58 64 74 52 69 51 54 77 61 40 41 42 53\n",
      " 68 67 72 75 49 35 43 48 50 45 76 70 71 38 37]\n",
      "i: sex and unique: [1 0]\n",
      "i: cp and unique: [4 3 2 1]\n",
      "i: trestbps and unique: ['140' '130' '132' '142' '110' '120' '150' '180' '160' '126' '?' '128'\n",
      " '170' '152' '116' '124' '0' '122' '144' '154' '125' '104' '136' '134'\n",
      " '138' '178' '146' '135' '158' '106' '112' '102' '96' '172' '155' '156'\n",
      " '118' '100' '190' '114' '127']\n",
      "i: chol and unique: ['260' '209' '218' '228' '213' '0' '236' '267' '166' '220' '177' '186'\n",
      " '100' '171' '230' '281' '203' '277' '233' '240' '153' '224' '316' '311'\n",
      " '270' '217' '214' '252' '339' '216' '276' '458' '241' '384' '297' '248'\n",
      " '308' '208' '227' '210' '245' '225' '198' '195' '161' '258' '235' '305'\n",
      " '223' '282' '349' '?' '160' '312' '283' '142' '211' '306' '222' '202'\n",
      " '197' '204' '274' '192' '298' '272' '200' '261' '181' '221' '175' '219'\n",
      " '310' '232' '273' '182' '292' '289' '193' '170' '369' '173' '271' '244'\n",
      " '285' '243' '237' '165' '287' '256' '264' '226' '207' '284' '337' '254'\n",
      " '300' '333' '139' '385']\n",
      "i: fbs and unique: ['0' '1' '?']\n",
      "i: restecg and unique: [1 2 0]\n",
      "i: thalach and unique: ['112' '127' '140' '149' '99' '120' '105' '141' '157' '117' '?' '148' '86'\n",
      " '84' '125' '118' '124' '106' '111' '180' '129' '110' '155' '122' '133'\n",
      " '131' '80' '165' '107' '128' '160' '97' '161' '130' '108' '123' '144'\n",
      " '102' '145' '69' '138' '150' '88' '132' '121' '135' '100' '162' '73'\n",
      " '154' '115' '119' '159' '94' '113' '98' '96' '151' '126' '93']\n",
      "i: exang and unique: ['1' '0' '?']\n",
      "i: oldpeak and unique: ['3' '0' '1.5' '2.5' '1.3' '-0.5' '2' '0.5' '1' '?' '1.6' '4' '3.5' '0.8'\n",
      " '1.7']\n",
      "i: slope and unique: ['2' '?' '3' '1']\n",
      "i: ca and unique: ['?' '0']\n",
      "i: thal and unique: ['?' '3' '7' '6']\n",
      "i: target and unique: [2 0 1 3 4]\n"
     ]
    }
   ],
   "source": [
    "# Check the uniqueness in the dataset\n",
    "for i in hd.columns:\n",
    "    print('i: %s and unique: %s' % (i, hd[i].unique()))"
   ]
  },
  {
   "cell_type": "code",
   "execution_count": 6,
   "metadata": {},
   "outputs": [
    {
     "name": "stdout",
     "output_type": "stream",
     "text": [
      "<class 'pandas.core.frame.DataFrame'>\n",
      "RangeIndex: 200 entries, 0 to 199\n",
      "Data columns (total 14 columns):\n",
      " #   Column    Non-Null Count  Dtype \n",
      "---  ------    --------------  ----- \n",
      " 0   age       200 non-null    int64 \n",
      " 1   sex       200 non-null    int64 \n",
      " 2   cp        200 non-null    int64 \n",
      " 3   trestbps  200 non-null    object\n",
      " 4   chol      200 non-null    object\n",
      " 5   fbs       200 non-null    object\n",
      " 6   restecg   200 non-null    int64 \n",
      " 7   thalach   200 non-null    object\n",
      " 8   exang     200 non-null    object\n",
      " 9   oldpeak   200 non-null    object\n",
      " 10  slope     200 non-null    object\n",
      " 11  ca        200 non-null    object\n",
      " 12  thal      200 non-null    object\n",
      " 13  target    200 non-null    int64 \n",
      "dtypes: int64(5), object(9)\n",
      "memory usage: 22.0+ KB\n"
     ]
    }
   ],
   "source": [
    "hd.info()"
   ]
  },
  {
   "cell_type": "markdown",
   "metadata": {},
   "source": [
    "## Missing Values"
   ]
  },
  {
   "cell_type": "code",
   "execution_count": 7,
   "metadata": {},
   "outputs": [
    {
     "data": {
      "text/plain": [
       "age           0\n",
       "sex           0\n",
       "cp            0\n",
       "trestbps     56\n",
       "chol          7\n",
       "fbs           7\n",
       "restecg       0\n",
       "thalach      53\n",
       "exang        53\n",
       "oldpeak      56\n",
       "slope       102\n",
       "ca          198\n",
       "thal        166\n",
       "target        0\n",
       "dtype: int64"
      ]
     },
     "execution_count": 7,
     "metadata": {},
     "output_type": "execute_result"
    }
   ],
   "source": [
    "hd.isin(['?']).sum()"
   ]
  },
  {
   "cell_type": "code",
   "execution_count": 8,
   "metadata": {},
   "outputs": [
    {
     "data": {
      "text/html": [
       "<div>\n",
       "<style scoped>\n",
       "    .dataframe tbody tr th:only-of-type {\n",
       "        vertical-align: middle;\n",
       "    }\n",
       "\n",
       "    .dataframe tbody tr th {\n",
       "        vertical-align: top;\n",
       "    }\n",
       "\n",
       "    .dataframe thead th {\n",
       "        text-align: right;\n",
       "    }\n",
       "</style>\n",
       "<table border=\"1\" class=\"dataframe\">\n",
       "  <thead>\n",
       "    <tr style=\"text-align: right;\">\n",
       "      <th></th>\n",
       "      <th>Missing Value Count</th>\n",
       "      <th>% of Missing</th>\n",
       "      <th>DTYPE</th>\n",
       "    </tr>\n",
       "  </thead>\n",
       "  <tbody>\n",
       "    <tr>\n",
       "      <th>ca</th>\n",
       "      <td>198</td>\n",
       "      <td>99.0</td>\n",
       "      <td>object</td>\n",
       "    </tr>\n",
       "    <tr>\n",
       "      <th>thal</th>\n",
       "      <td>166</td>\n",
       "      <td>83.0</td>\n",
       "      <td>object</td>\n",
       "    </tr>\n",
       "    <tr>\n",
       "      <th>slope</th>\n",
       "      <td>102</td>\n",
       "      <td>51.0</td>\n",
       "      <td>object</td>\n",
       "    </tr>\n",
       "    <tr>\n",
       "      <th>trestbps</th>\n",
       "      <td>56</td>\n",
       "      <td>28.0</td>\n",
       "      <td>object</td>\n",
       "    </tr>\n",
       "    <tr>\n",
       "      <th>oldpeak</th>\n",
       "      <td>56</td>\n",
       "      <td>28.0</td>\n",
       "      <td>object</td>\n",
       "    </tr>\n",
       "    <tr>\n",
       "      <th>thalach</th>\n",
       "      <td>53</td>\n",
       "      <td>26.5</td>\n",
       "      <td>object</td>\n",
       "    </tr>\n",
       "    <tr>\n",
       "      <th>exang</th>\n",
       "      <td>53</td>\n",
       "      <td>26.5</td>\n",
       "      <td>object</td>\n",
       "    </tr>\n",
       "    <tr>\n",
       "      <th>chol</th>\n",
       "      <td>7</td>\n",
       "      <td>3.5</td>\n",
       "      <td>object</td>\n",
       "    </tr>\n",
       "    <tr>\n",
       "      <th>fbs</th>\n",
       "      <td>7</td>\n",
       "      <td>3.5</td>\n",
       "      <td>object</td>\n",
       "    </tr>\n",
       "    <tr>\n",
       "      <th>age</th>\n",
       "      <td>0</td>\n",
       "      <td>0.0</td>\n",
       "      <td>int64</td>\n",
       "    </tr>\n",
       "    <tr>\n",
       "      <th>sex</th>\n",
       "      <td>0</td>\n",
       "      <td>0.0</td>\n",
       "      <td>int64</td>\n",
       "    </tr>\n",
       "    <tr>\n",
       "      <th>cp</th>\n",
       "      <td>0</td>\n",
       "      <td>0.0</td>\n",
       "      <td>int64</td>\n",
       "    </tr>\n",
       "    <tr>\n",
       "      <th>restecg</th>\n",
       "      <td>0</td>\n",
       "      <td>0.0</td>\n",
       "      <td>int64</td>\n",
       "    </tr>\n",
       "    <tr>\n",
       "      <th>target</th>\n",
       "      <td>0</td>\n",
       "      <td>0.0</td>\n",
       "      <td>int64</td>\n",
       "    </tr>\n",
       "  </tbody>\n",
       "</table>\n",
       "</div>"
      ],
      "text/plain": [
       "          Missing Value Count  % of Missing   DTYPE\n",
       "ca                        198          99.0  object\n",
       "thal                      166          83.0  object\n",
       "slope                     102          51.0  object\n",
       "trestbps                   56          28.0  object\n",
       "oldpeak                    56          28.0  object\n",
       "thalach                    53          26.5  object\n",
       "exang                      53          26.5  object\n",
       "chol                        7           3.5  object\n",
       "fbs                         7           3.5  object\n",
       "age                         0           0.0   int64\n",
       "sex                         0           0.0   int64\n",
       "cp                          0           0.0   int64\n",
       "restecg                     0           0.0   int64\n",
       "target                      0           0.0   int64"
      ]
     },
     "execution_count": 8,
     "metadata": {},
     "output_type": "execute_result"
    }
   ],
   "source": [
    "# Check the percentage of missing values\n",
    "\n",
    "missing_values = hd.isin(['?']).sum()\n",
    "missing_values_percent =round(100*(hd.isin(['?']).sum()/len(hd)),2)\n",
    "dtype = hd.dtypes\n",
    "info_hd = pd.DataFrame({'Missing Value Count':missing_values,'% of Missing':missing_values_percent,'DTYPE': dtype})\n",
    "info_hd.sort_values(by = '% of Missing',inplace=True,ascending=False)\n",
    "info_hd"
   ]
  },
  {
   "cell_type": "markdown",
   "metadata": {},
   "source": [
    "Observation: slope, ca, thal columns having the maxing null values i.e. more than 30% percentage null values"
   ]
  },
  {
   "cell_type": "code",
   "execution_count": 9,
   "metadata": {},
   "outputs": [
    {
     "data": {
      "text/html": [
       "<div>\n",
       "<style scoped>\n",
       "    .dataframe tbody tr th:only-of-type {\n",
       "        vertical-align: middle;\n",
       "    }\n",
       "\n",
       "    .dataframe tbody tr th {\n",
       "        vertical-align: top;\n",
       "    }\n",
       "\n",
       "    .dataframe thead th {\n",
       "        text-align: right;\n",
       "    }\n",
       "</style>\n",
       "<table border=\"1\" class=\"dataframe\">\n",
       "  <thead>\n",
       "    <tr style=\"text-align: right;\">\n",
       "      <th></th>\n",
       "      <th>age</th>\n",
       "      <th>sex</th>\n",
       "      <th>cp</th>\n",
       "      <th>trestbps</th>\n",
       "      <th>chol</th>\n",
       "      <th>fbs</th>\n",
       "      <th>restecg</th>\n",
       "      <th>thalach</th>\n",
       "      <th>exang</th>\n",
       "      <th>oldpeak</th>\n",
       "      <th>target</th>\n",
       "    </tr>\n",
       "  </thead>\n",
       "  <tbody>\n",
       "    <tr>\n",
       "      <th>0</th>\n",
       "      <td>63</td>\n",
       "      <td>1</td>\n",
       "      <td>4</td>\n",
       "      <td>140</td>\n",
       "      <td>260</td>\n",
       "      <td>0</td>\n",
       "      <td>1</td>\n",
       "      <td>112</td>\n",
       "      <td>1</td>\n",
       "      <td>3</td>\n",
       "      <td>2</td>\n",
       "    </tr>\n",
       "    <tr>\n",
       "      <th>1</th>\n",
       "      <td>44</td>\n",
       "      <td>1</td>\n",
       "      <td>4</td>\n",
       "      <td>130</td>\n",
       "      <td>209</td>\n",
       "      <td>0</td>\n",
       "      <td>1</td>\n",
       "      <td>127</td>\n",
       "      <td>0</td>\n",
       "      <td>0</td>\n",
       "      <td>0</td>\n",
       "    </tr>\n",
       "    <tr>\n",
       "      <th>2</th>\n",
       "      <td>60</td>\n",
       "      <td>1</td>\n",
       "      <td>4</td>\n",
       "      <td>132</td>\n",
       "      <td>218</td>\n",
       "      <td>0</td>\n",
       "      <td>1</td>\n",
       "      <td>140</td>\n",
       "      <td>1</td>\n",
       "      <td>1.5</td>\n",
       "      <td>2</td>\n",
       "    </tr>\n",
       "    <tr>\n",
       "      <th>3</th>\n",
       "      <td>55</td>\n",
       "      <td>1</td>\n",
       "      <td>4</td>\n",
       "      <td>142</td>\n",
       "      <td>228</td>\n",
       "      <td>0</td>\n",
       "      <td>1</td>\n",
       "      <td>149</td>\n",
       "      <td>1</td>\n",
       "      <td>2.5</td>\n",
       "      <td>1</td>\n",
       "    </tr>\n",
       "    <tr>\n",
       "      <th>4</th>\n",
       "      <td>66</td>\n",
       "      <td>1</td>\n",
       "      <td>3</td>\n",
       "      <td>110</td>\n",
       "      <td>213</td>\n",
       "      <td>1</td>\n",
       "      <td>2</td>\n",
       "      <td>99</td>\n",
       "      <td>1</td>\n",
       "      <td>1.3</td>\n",
       "      <td>0</td>\n",
       "    </tr>\n",
       "    <tr>\n",
       "      <th>...</th>\n",
       "      <td>...</td>\n",
       "      <td>...</td>\n",
       "      <td>...</td>\n",
       "      <td>...</td>\n",
       "      <td>...</td>\n",
       "      <td>...</td>\n",
       "      <td>...</td>\n",
       "      <td>...</td>\n",
       "      <td>...</td>\n",
       "      <td>...</td>\n",
       "      <td>...</td>\n",
       "    </tr>\n",
       "    <tr>\n",
       "      <th>195</th>\n",
       "      <td>54</td>\n",
       "      <td>0</td>\n",
       "      <td>4</td>\n",
       "      <td>127</td>\n",
       "      <td>333</td>\n",
       "      <td>1</td>\n",
       "      <td>1</td>\n",
       "      <td>154</td>\n",
       "      <td>0</td>\n",
       "      <td>0</td>\n",
       "      <td>1</td>\n",
       "    </tr>\n",
       "    <tr>\n",
       "      <th>196</th>\n",
       "      <td>62</td>\n",
       "      <td>1</td>\n",
       "      <td>1</td>\n",
       "      <td>?</td>\n",
       "      <td>139</td>\n",
       "      <td>0</td>\n",
       "      <td>1</td>\n",
       "      <td>?</td>\n",
       "      <td>?</td>\n",
       "      <td>?</td>\n",
       "      <td>0</td>\n",
       "    </tr>\n",
       "    <tr>\n",
       "      <th>197</th>\n",
       "      <td>55</td>\n",
       "      <td>1</td>\n",
       "      <td>4</td>\n",
       "      <td>122</td>\n",
       "      <td>223</td>\n",
       "      <td>1</td>\n",
       "      <td>1</td>\n",
       "      <td>100</td>\n",
       "      <td>0</td>\n",
       "      <td>0</td>\n",
       "      <td>2</td>\n",
       "    </tr>\n",
       "    <tr>\n",
       "      <th>198</th>\n",
       "      <td>58</td>\n",
       "      <td>1</td>\n",
       "      <td>4</td>\n",
       "      <td>?</td>\n",
       "      <td>385</td>\n",
       "      <td>1</td>\n",
       "      <td>2</td>\n",
       "      <td>?</td>\n",
       "      <td>?</td>\n",
       "      <td>?</td>\n",
       "      <td>0</td>\n",
       "    </tr>\n",
       "    <tr>\n",
       "      <th>199</th>\n",
       "      <td>62</td>\n",
       "      <td>1</td>\n",
       "      <td>2</td>\n",
       "      <td>120</td>\n",
       "      <td>254</td>\n",
       "      <td>0</td>\n",
       "      <td>2</td>\n",
       "      <td>93</td>\n",
       "      <td>1</td>\n",
       "      <td>0</td>\n",
       "      <td>1</td>\n",
       "    </tr>\n",
       "  </tbody>\n",
       "</table>\n",
       "<p>200 rows × 11 columns</p>\n",
       "</div>"
      ],
      "text/plain": [
       "     age  sex  cp trestbps chol fbs  restecg thalach exang oldpeak  target\n",
       "0     63    1   4      140  260   0        1     112     1       3       2\n",
       "1     44    1   4      130  209   0        1     127     0       0       0\n",
       "2     60    1   4      132  218   0        1     140     1     1.5       2\n",
       "3     55    1   4      142  228   0        1     149     1     2.5       1\n",
       "4     66    1   3      110  213   1        2      99     1     1.3       0\n",
       "..   ...  ...  ..      ...  ...  ..      ...     ...   ...     ...     ...\n",
       "195   54    0   4      127  333   1        1     154     0       0       1\n",
       "196   62    1   1        ?  139   0        1       ?     ?       ?       0\n",
       "197   55    1   4      122  223   1        1     100     0       0       2\n",
       "198   58    1   4        ?  385   1        2       ?     ?       ?       0\n",
       "199   62    1   2      120  254   0        2      93     1       0       1\n",
       "\n",
       "[200 rows x 11 columns]"
      ]
     },
     "execution_count": 9,
     "metadata": {},
     "output_type": "execute_result"
    }
   ],
   "source": [
    "# Dropping the columns whose have more than 30% percentage null values\n",
    "\n",
    "hd.drop(['slope', 'ca', 'thal'], axis=1, inplace=True)\n",
    "hd"
   ]
  },
  {
   "cell_type": "code",
   "execution_count": 10,
   "metadata": {},
   "outputs": [],
   "source": [
    "# Replace '?' to nan\n",
    "\n",
    "hd.replace('?', np.nan, inplace=True)"
   ]
  },
  {
   "cell_type": "code",
   "execution_count": 11,
   "metadata": {},
   "outputs": [
    {
     "name": "stdout",
     "output_type": "stream",
     "text": [
      "(200, 11)\n",
      "(147, 11)\n"
     ]
    }
   ],
   "source": [
    "# dropping the rows whose having more than 3 nan values\n",
    "print(hd.shape)\n",
    "\n",
    "hd.dropna(thresh=hd.shape[1]-3, axis=0, inplace=True)\n",
    "\n",
    "print(hd.shape)"
   ]
  },
  {
   "cell_type": "code",
   "execution_count": 12,
   "metadata": {},
   "outputs": [
    {
     "data": {
      "text/plain": [
       "age         0\n",
       "sex         0\n",
       "cp          0\n",
       "trestbps    3\n",
       "chol        4\n",
       "fbs         7\n",
       "restecg     0\n",
       "thalach     0\n",
       "exang       0\n",
       "oldpeak     3\n",
       "target      0\n",
       "dtype: int64"
      ]
     },
     "execution_count": 12,
     "metadata": {},
     "output_type": "execute_result"
    }
   ],
   "source": [
    "# Check the null values again with nan\n",
    "hd.isnull().sum()"
   ]
  },
  {
   "cell_type": "code",
   "execution_count": 13,
   "metadata": {},
   "outputs": [
    {
     "data": {
      "text/plain": [
       "age          int64\n",
       "sex          int64\n",
       "cp           int64\n",
       "trestbps    object\n",
       "chol        object\n",
       "fbs         object\n",
       "restecg      int64\n",
       "thalach     object\n",
       "exang       object\n",
       "oldpeak     object\n",
       "target       int64\n",
       "dtype: object"
      ]
     },
     "execution_count": 13,
     "metadata": {},
     "output_type": "execute_result"
    }
   ],
   "source": [
    "# Checking the dtypes\n",
    "hd.dtypes"
   ]
  },
  {
   "cell_type": "code",
   "execution_count": 14,
   "metadata": {},
   "outputs": [],
   "source": [
    "# Converting exang & thalach to int\n",
    "\n",
    "hd['thalach'] = hd['thalach'].astype('int')\n",
    "hd['exang'] = hd['exang'].astype('int')"
   ]
  },
  {
   "cell_type": "code",
   "execution_count": 15,
   "metadata": {},
   "outputs": [
    {
     "data": {
      "text/html": [
       "<div>\n",
       "<style scoped>\n",
       "    .dataframe tbody tr th:only-of-type {\n",
       "        vertical-align: middle;\n",
       "    }\n",
       "\n",
       "    .dataframe tbody tr th {\n",
       "        vertical-align: top;\n",
       "    }\n",
       "\n",
       "    .dataframe thead th {\n",
       "        text-align: right;\n",
       "    }\n",
       "</style>\n",
       "<table border=\"1\" class=\"dataframe\">\n",
       "  <thead>\n",
       "    <tr style=\"text-align: right;\">\n",
       "      <th></th>\n",
       "      <th>age</th>\n",
       "      <th>sex</th>\n",
       "      <th>cp</th>\n",
       "      <th>trestbps</th>\n",
       "      <th>chol</th>\n",
       "      <th>fbs</th>\n",
       "      <th>restecg</th>\n",
       "      <th>thalach</th>\n",
       "      <th>exang</th>\n",
       "      <th>oldpeak</th>\n",
       "      <th>target</th>\n",
       "    </tr>\n",
       "  </thead>\n",
       "  <tbody>\n",
       "    <tr>\n",
       "      <th>0</th>\n",
       "      <td>63</td>\n",
       "      <td>1</td>\n",
       "      <td>4</td>\n",
       "      <td>140.0</td>\n",
       "      <td>260.0</td>\n",
       "      <td>0.0</td>\n",
       "      <td>1</td>\n",
       "      <td>112</td>\n",
       "      <td>1</td>\n",
       "      <td>3.0</td>\n",
       "      <td>2</td>\n",
       "    </tr>\n",
       "    <tr>\n",
       "      <th>1</th>\n",
       "      <td>44</td>\n",
       "      <td>1</td>\n",
       "      <td>4</td>\n",
       "      <td>130.0</td>\n",
       "      <td>209.0</td>\n",
       "      <td>0.0</td>\n",
       "      <td>1</td>\n",
       "      <td>127</td>\n",
       "      <td>0</td>\n",
       "      <td>0.0</td>\n",
       "      <td>0</td>\n",
       "    </tr>\n",
       "    <tr>\n",
       "      <th>2</th>\n",
       "      <td>60</td>\n",
       "      <td>1</td>\n",
       "      <td>4</td>\n",
       "      <td>132.0</td>\n",
       "      <td>218.0</td>\n",
       "      <td>0.0</td>\n",
       "      <td>1</td>\n",
       "      <td>140</td>\n",
       "      <td>1</td>\n",
       "      <td>1.5</td>\n",
       "      <td>2</td>\n",
       "    </tr>\n",
       "    <tr>\n",
       "      <th>3</th>\n",
       "      <td>55</td>\n",
       "      <td>1</td>\n",
       "      <td>4</td>\n",
       "      <td>142.0</td>\n",
       "      <td>228.0</td>\n",
       "      <td>0.0</td>\n",
       "      <td>1</td>\n",
       "      <td>149</td>\n",
       "      <td>1</td>\n",
       "      <td>2.5</td>\n",
       "      <td>1</td>\n",
       "    </tr>\n",
       "    <tr>\n",
       "      <th>4</th>\n",
       "      <td>66</td>\n",
       "      <td>1</td>\n",
       "      <td>3</td>\n",
       "      <td>110.0</td>\n",
       "      <td>213.0</td>\n",
       "      <td>1.0</td>\n",
       "      <td>2</td>\n",
       "      <td>99</td>\n",
       "      <td>1</td>\n",
       "      <td>1.3</td>\n",
       "      <td>0</td>\n",
       "    </tr>\n",
       "    <tr>\n",
       "      <th>...</th>\n",
       "      <td>...</td>\n",
       "      <td>...</td>\n",
       "      <td>...</td>\n",
       "      <td>...</td>\n",
       "      <td>...</td>\n",
       "      <td>...</td>\n",
       "      <td>...</td>\n",
       "      <td>...</td>\n",
       "      <td>...</td>\n",
       "      <td>...</td>\n",
       "      <td>...</td>\n",
       "    </tr>\n",
       "    <tr>\n",
       "      <th>193</th>\n",
       "      <td>62</td>\n",
       "      <td>1</td>\n",
       "      <td>4</td>\n",
       "      <td>158.0</td>\n",
       "      <td>170.0</td>\n",
       "      <td>0.0</td>\n",
       "      <td>1</td>\n",
       "      <td>138</td>\n",
       "      <td>1</td>\n",
       "      <td>0.0</td>\n",
       "      <td>1</td>\n",
       "    </tr>\n",
       "    <tr>\n",
       "      <th>194</th>\n",
       "      <td>46</td>\n",
       "      <td>1</td>\n",
       "      <td>4</td>\n",
       "      <td>134.0</td>\n",
       "      <td>310.0</td>\n",
       "      <td>0.0</td>\n",
       "      <td>0</td>\n",
       "      <td>126</td>\n",
       "      <td>0</td>\n",
       "      <td>0.0</td>\n",
       "      <td>2</td>\n",
       "    </tr>\n",
       "    <tr>\n",
       "      <th>195</th>\n",
       "      <td>54</td>\n",
       "      <td>0</td>\n",
       "      <td>4</td>\n",
       "      <td>127.0</td>\n",
       "      <td>333.0</td>\n",
       "      <td>1.0</td>\n",
       "      <td>1</td>\n",
       "      <td>154</td>\n",
       "      <td>0</td>\n",
       "      <td>0.0</td>\n",
       "      <td>1</td>\n",
       "    </tr>\n",
       "    <tr>\n",
       "      <th>197</th>\n",
       "      <td>55</td>\n",
       "      <td>1</td>\n",
       "      <td>4</td>\n",
       "      <td>122.0</td>\n",
       "      <td>223.0</td>\n",
       "      <td>1.0</td>\n",
       "      <td>1</td>\n",
       "      <td>100</td>\n",
       "      <td>0</td>\n",
       "      <td>0.0</td>\n",
       "      <td>2</td>\n",
       "    </tr>\n",
       "    <tr>\n",
       "      <th>199</th>\n",
       "      <td>62</td>\n",
       "      <td>1</td>\n",
       "      <td>2</td>\n",
       "      <td>120.0</td>\n",
       "      <td>254.0</td>\n",
       "      <td>0.0</td>\n",
       "      <td>2</td>\n",
       "      <td>93</td>\n",
       "      <td>1</td>\n",
       "      <td>0.0</td>\n",
       "      <td>1</td>\n",
       "    </tr>\n",
       "  </tbody>\n",
       "</table>\n",
       "<p>147 rows × 11 columns</p>\n",
       "</div>"
      ],
      "text/plain": [
       "     age  sex  cp  trestbps   chol  fbs  restecg  thalach  exang  oldpeak  \\\n",
       "0     63    1   4     140.0  260.0  0.0        1      112      1      3.0   \n",
       "1     44    1   4     130.0  209.0  0.0        1      127      0      0.0   \n",
       "2     60    1   4     132.0  218.0  0.0        1      140      1      1.5   \n",
       "3     55    1   4     142.0  228.0  0.0        1      149      1      2.5   \n",
       "4     66    1   3     110.0  213.0  1.0        2       99      1      1.3   \n",
       "..   ...  ...  ..       ...    ...  ...      ...      ...    ...      ...   \n",
       "193   62    1   4     158.0  170.0  0.0        1      138      1      0.0   \n",
       "194   46    1   4     134.0  310.0  0.0        0      126      0      0.0   \n",
       "195   54    0   4     127.0  333.0  1.0        1      154      0      0.0   \n",
       "197   55    1   4     122.0  223.0  1.0        1      100      0      0.0   \n",
       "199   62    1   2     120.0  254.0  0.0        2       93      1      0.0   \n",
       "\n",
       "     target  \n",
       "0         2  \n",
       "1         0  \n",
       "2         2  \n",
       "3         1  \n",
       "4         0  \n",
       "..      ...  \n",
       "193       1  \n",
       "194       2  \n",
       "195       1  \n",
       "197       2  \n",
       "199       1  \n",
       "\n",
       "[147 rows x 11 columns]"
      ]
     },
     "execution_count": 15,
     "metadata": {},
     "output_type": "execute_result"
    }
   ],
   "source": [
    "# replacing the null values with the median by using Simple Imputer\n",
    "\n",
    "from sklearn.impute import SimpleImputer\n",
    "\n",
    "imp = SimpleImputer(strategy='median')\n",
    "\n",
    "for i in ['trestbps', 'chol', 'fbs', 'oldpeak']:\n",
    "    hd[i] = imp.fit_transform(hd[i].values.reshape(-1, 1))\n",
    "hd"
   ]
  },
  {
   "cell_type": "markdown",
   "metadata": {},
   "source": [
    "Converting the target variable from heart diseases or no heart disease\n",
    "\n",
    "heart Disease :1,2,3,4\n",
    "\n",
    "No heart Diesase : 0\n",
    "\n",
    "Converting 1,2,3,4 --> 1 means having heart diease"
   ]
  },
  {
   "cell_type": "code",
   "execution_count": 16,
   "metadata": {},
   "outputs": [
    {
     "data": {
      "text/plain": [
       "array([1, 0], dtype=int64)"
      ]
     },
     "execution_count": 16,
     "metadata": {},
     "output_type": "execute_result"
    }
   ],
   "source": [
    "hd['target'] = hd['target'].replace({2:1, 3:1, 4:1})\n",
    "hd['target'].unique()"
   ]
  },
  {
   "cell_type": "markdown",
   "metadata": {},
   "source": [
    "## Summary Statstics"
   ]
  },
  {
   "cell_type": "code",
   "execution_count": 17,
   "metadata": {},
   "outputs": [
    {
     "data": {
      "text/html": [
       "<div>\n",
       "<style scoped>\n",
       "    .dataframe tbody tr th:only-of-type {\n",
       "        vertical-align: middle;\n",
       "    }\n",
       "\n",
       "    .dataframe tbody tr th {\n",
       "        vertical-align: top;\n",
       "    }\n",
       "\n",
       "    .dataframe thead th {\n",
       "        text-align: right;\n",
       "    }\n",
       "</style>\n",
       "<table border=\"1\" class=\"dataframe\">\n",
       "  <thead>\n",
       "    <tr style=\"text-align: right;\">\n",
       "      <th></th>\n",
       "      <th>age</th>\n",
       "      <th>sex</th>\n",
       "      <th>cp</th>\n",
       "      <th>trestbps</th>\n",
       "      <th>chol</th>\n",
       "      <th>fbs</th>\n",
       "      <th>restecg</th>\n",
       "      <th>thalach</th>\n",
       "      <th>exang</th>\n",
       "      <th>oldpeak</th>\n",
       "      <th>target</th>\n",
       "    </tr>\n",
       "  </thead>\n",
       "  <tbody>\n",
       "    <tr>\n",
       "      <th>count</th>\n",
       "      <td>147.000000</td>\n",
       "      <td>147.000000</td>\n",
       "      <td>147.000000</td>\n",
       "      <td>147.000000</td>\n",
       "      <td>147.000000</td>\n",
       "      <td>147.000000</td>\n",
       "      <td>147.000000</td>\n",
       "      <td>147.000000</td>\n",
       "      <td>147.000000</td>\n",
       "      <td>147.000000</td>\n",
       "      <td>147.000000</td>\n",
       "    </tr>\n",
       "    <tr>\n",
       "      <th>mean</th>\n",
       "      <td>59.312925</td>\n",
       "      <td>0.965986</td>\n",
       "      <td>3.612245</td>\n",
       "      <td>133.687075</td>\n",
       "      <td>173.020408</td>\n",
       "      <td>0.319728</td>\n",
       "      <td>0.721088</td>\n",
       "      <td>122.795918</td>\n",
       "      <td>0.646259</td>\n",
       "      <td>1.324490</td>\n",
       "      <td>0.782313</td>\n",
       "    </tr>\n",
       "    <tr>\n",
       "      <th>std</th>\n",
       "      <td>7.853803</td>\n",
       "      <td>0.181884</td>\n",
       "      <td>0.716240</td>\n",
       "      <td>21.321994</td>\n",
       "      <td>114.545586</td>\n",
       "      <td>0.467965</td>\n",
       "      <td>0.690268</td>\n",
       "      <td>21.990328</td>\n",
       "      <td>0.479765</td>\n",
       "      <td>1.095107</td>\n",
       "      <td>0.414084</td>\n",
       "    </tr>\n",
       "    <tr>\n",
       "      <th>min</th>\n",
       "      <td>37.000000</td>\n",
       "      <td>0.000000</td>\n",
       "      <td>1.000000</td>\n",
       "      <td>0.000000</td>\n",
       "      <td>0.000000</td>\n",
       "      <td>0.000000</td>\n",
       "      <td>0.000000</td>\n",
       "      <td>69.000000</td>\n",
       "      <td>0.000000</td>\n",
       "      <td>-0.500000</td>\n",
       "      <td>0.000000</td>\n",
       "    </tr>\n",
       "    <tr>\n",
       "      <th>25%</th>\n",
       "      <td>55.000000</td>\n",
       "      <td>1.000000</td>\n",
       "      <td>3.000000</td>\n",
       "      <td>120.000000</td>\n",
       "      <td>0.000000</td>\n",
       "      <td>0.000000</td>\n",
       "      <td>0.000000</td>\n",
       "      <td>109.000000</td>\n",
       "      <td>0.000000</td>\n",
       "      <td>0.000000</td>\n",
       "      <td>1.000000</td>\n",
       "    </tr>\n",
       "    <tr>\n",
       "      <th>50%</th>\n",
       "      <td>60.000000</td>\n",
       "      <td>1.000000</td>\n",
       "      <td>4.000000</td>\n",
       "      <td>130.000000</td>\n",
       "      <td>214.000000</td>\n",
       "      <td>0.000000</td>\n",
       "      <td>1.000000</td>\n",
       "      <td>120.000000</td>\n",
       "      <td>1.000000</td>\n",
       "      <td>1.500000</td>\n",
       "      <td>1.000000</td>\n",
       "    </tr>\n",
       "    <tr>\n",
       "      <th>75%</th>\n",
       "      <td>63.000000</td>\n",
       "      <td>1.000000</td>\n",
       "      <td>4.000000</td>\n",
       "      <td>145.000000</td>\n",
       "      <td>254.000000</td>\n",
       "      <td>1.000000</td>\n",
       "      <td>1.000000</td>\n",
       "      <td>140.000000</td>\n",
       "      <td>1.000000</td>\n",
       "      <td>2.000000</td>\n",
       "      <td>1.000000</td>\n",
       "    </tr>\n",
       "    <tr>\n",
       "      <th>max</th>\n",
       "      <td>77.000000</td>\n",
       "      <td>1.000000</td>\n",
       "      <td>4.000000</td>\n",
       "      <td>190.000000</td>\n",
       "      <td>458.000000</td>\n",
       "      <td>1.000000</td>\n",
       "      <td>2.000000</td>\n",
       "      <td>180.000000</td>\n",
       "      <td>1.000000</td>\n",
       "      <td>4.000000</td>\n",
       "      <td>1.000000</td>\n",
       "    </tr>\n",
       "  </tbody>\n",
       "</table>\n",
       "</div>"
      ],
      "text/plain": [
       "              age         sex          cp    trestbps        chol         fbs  \\\n",
       "count  147.000000  147.000000  147.000000  147.000000  147.000000  147.000000   \n",
       "mean    59.312925    0.965986    3.612245  133.687075  173.020408    0.319728   \n",
       "std      7.853803    0.181884    0.716240   21.321994  114.545586    0.467965   \n",
       "min     37.000000    0.000000    1.000000    0.000000    0.000000    0.000000   \n",
       "25%     55.000000    1.000000    3.000000  120.000000    0.000000    0.000000   \n",
       "50%     60.000000    1.000000    4.000000  130.000000  214.000000    0.000000   \n",
       "75%     63.000000    1.000000    4.000000  145.000000  254.000000    1.000000   \n",
       "max     77.000000    1.000000    4.000000  190.000000  458.000000    1.000000   \n",
       "\n",
       "          restecg     thalach       exang     oldpeak      target  \n",
       "count  147.000000  147.000000  147.000000  147.000000  147.000000  \n",
       "mean     0.721088  122.795918    0.646259    1.324490    0.782313  \n",
       "std      0.690268   21.990328    0.479765    1.095107    0.414084  \n",
       "min      0.000000   69.000000    0.000000   -0.500000    0.000000  \n",
       "25%      0.000000  109.000000    0.000000    0.000000    1.000000  \n",
       "50%      1.000000  120.000000    1.000000    1.500000    1.000000  \n",
       "75%      1.000000  140.000000    1.000000    2.000000    1.000000  \n",
       "max      2.000000  180.000000    1.000000    4.000000    1.000000  "
      ]
     },
     "execution_count": 17,
     "metadata": {},
     "output_type": "execute_result"
    }
   ],
   "source": [
    "hd.describe()"
   ]
  },
  {
   "cell_type": "markdown",
   "metadata": {},
   "source": [
    "Observation:\n",
    "\n",
    "1. People whose age more than 60 years having severe heart diease \n",
    "2. Outliers may present in trestbps and chol because more difference in 75% and max"
   ]
  },
  {
   "cell_type": "markdown",
   "metadata": {},
   "source": [
    "## Correlation"
   ]
  },
  {
   "cell_type": "code",
   "execution_count": 18,
   "metadata": {},
   "outputs": [
    {
     "data": {
      "text/html": [
       "<div>\n",
       "<style scoped>\n",
       "    .dataframe tbody tr th:only-of-type {\n",
       "        vertical-align: middle;\n",
       "    }\n",
       "\n",
       "    .dataframe tbody tr th {\n",
       "        vertical-align: top;\n",
       "    }\n",
       "\n",
       "    .dataframe thead th {\n",
       "        text-align: right;\n",
       "    }\n",
       "</style>\n",
       "<table border=\"1\" class=\"dataframe\">\n",
       "  <thead>\n",
       "    <tr style=\"text-align: right;\">\n",
       "      <th></th>\n",
       "      <th>age</th>\n",
       "      <th>sex</th>\n",
       "      <th>cp</th>\n",
       "      <th>trestbps</th>\n",
       "      <th>chol</th>\n",
       "      <th>fbs</th>\n",
       "      <th>restecg</th>\n",
       "      <th>thalach</th>\n",
       "      <th>exang</th>\n",
       "      <th>oldpeak</th>\n",
       "      <th>target</th>\n",
       "    </tr>\n",
       "  </thead>\n",
       "  <tbody>\n",
       "    <tr>\n",
       "      <th>age</th>\n",
       "      <td>1.000000</td>\n",
       "      <td>0.060245</td>\n",
       "      <td>0.038765</td>\n",
       "      <td>0.210168</td>\n",
       "      <td>0.094531</td>\n",
       "      <td>0.162679</td>\n",
       "      <td>0.061693</td>\n",
       "      <td>-0.174125</td>\n",
       "      <td>0.156823</td>\n",
       "      <td>0.181231</td>\n",
       "      <td>0.206426</td>\n",
       "    </tr>\n",
       "    <tr>\n",
       "      <th>sex</th>\n",
       "      <td>0.060245</td>\n",
       "      <td>1.000000</td>\n",
       "      <td>0.003219</td>\n",
       "      <td>0.013132</td>\n",
       "      <td>-0.188673</td>\n",
       "      <td>-0.112769</td>\n",
       "      <td>0.033030</td>\n",
       "      <td>-0.001747</td>\n",
       "      <td>0.018155</td>\n",
       "      <td>0.107372</td>\n",
       "      <td>0.082899</td>\n",
       "    </tr>\n",
       "    <tr>\n",
       "      <th>cp</th>\n",
       "      <td>0.038765</td>\n",
       "      <td>0.003219</td>\n",
       "      <td>1.000000</td>\n",
       "      <td>0.096500</td>\n",
       "      <td>0.068889</td>\n",
       "      <td>-0.138458</td>\n",
       "      <td>-0.026294</td>\n",
       "      <td>-0.160306</td>\n",
       "      <td>0.235935</td>\n",
       "      <td>0.044499</td>\n",
       "      <td>0.129138</td>\n",
       "    </tr>\n",
       "    <tr>\n",
       "      <th>trestbps</th>\n",
       "      <td>0.210168</td>\n",
       "      <td>0.013132</td>\n",
       "      <td>0.096500</td>\n",
       "      <td>1.000000</td>\n",
       "      <td>0.174400</td>\n",
       "      <td>0.227699</td>\n",
       "      <td>0.106650</td>\n",
       "      <td>-0.011151</td>\n",
       "      <td>0.220104</td>\n",
       "      <td>0.111299</td>\n",
       "      <td>0.093857</td>\n",
       "    </tr>\n",
       "    <tr>\n",
       "      <th>chol</th>\n",
       "      <td>0.094531</td>\n",
       "      <td>-0.188673</td>\n",
       "      <td>0.068889</td>\n",
       "      <td>0.174400</td>\n",
       "      <td>1.000000</td>\n",
       "      <td>0.167138</td>\n",
       "      <td>0.022076</td>\n",
       "      <td>-0.043709</td>\n",
       "      <td>0.097098</td>\n",
       "      <td>0.007984</td>\n",
       "      <td>0.022044</td>\n",
       "    </tr>\n",
       "    <tr>\n",
       "      <th>fbs</th>\n",
       "      <td>0.162679</td>\n",
       "      <td>-0.112769</td>\n",
       "      <td>-0.138458</td>\n",
       "      <td>0.227699</td>\n",
       "      <td>0.167138</td>\n",
       "      <td>1.000000</td>\n",
       "      <td>0.150735</td>\n",
       "      <td>0.044988</td>\n",
       "      <td>-0.255473</td>\n",
       "      <td>-0.122306</td>\n",
       "      <td>0.008175</td>\n",
       "    </tr>\n",
       "    <tr>\n",
       "      <th>restecg</th>\n",
       "      <td>0.061693</td>\n",
       "      <td>0.033030</td>\n",
       "      <td>-0.026294</td>\n",
       "      <td>0.106650</td>\n",
       "      <td>0.022076</td>\n",
       "      <td>0.150735</td>\n",
       "      <td>1.000000</td>\n",
       "      <td>0.014274</td>\n",
       "      <td>-0.093141</td>\n",
       "      <td>-0.122286</td>\n",
       "      <td>-0.070096</td>\n",
       "    </tr>\n",
       "    <tr>\n",
       "      <th>thalach</th>\n",
       "      <td>-0.174125</td>\n",
       "      <td>-0.001747</td>\n",
       "      <td>-0.160306</td>\n",
       "      <td>-0.011151</td>\n",
       "      <td>-0.043709</td>\n",
       "      <td>0.044988</td>\n",
       "      <td>0.014274</td>\n",
       "      <td>1.000000</td>\n",
       "      <td>-0.075057</td>\n",
       "      <td>0.178199</td>\n",
       "      <td>-0.051548</td>\n",
       "    </tr>\n",
       "    <tr>\n",
       "      <th>exang</th>\n",
       "      <td>0.156823</td>\n",
       "      <td>0.018155</td>\n",
       "      <td>0.235935</td>\n",
       "      <td>0.220104</td>\n",
       "      <td>0.097098</td>\n",
       "      <td>-0.255473</td>\n",
       "      <td>-0.093141</td>\n",
       "      <td>-0.075057</td>\n",
       "      <td>1.000000</td>\n",
       "      <td>0.307316</td>\n",
       "      <td>0.299270</td>\n",
       "    </tr>\n",
       "    <tr>\n",
       "      <th>oldpeak</th>\n",
       "      <td>0.181231</td>\n",
       "      <td>0.107372</td>\n",
       "      <td>0.044499</td>\n",
       "      <td>0.111299</td>\n",
       "      <td>0.007984</td>\n",
       "      <td>-0.122306</td>\n",
       "      <td>-0.122286</td>\n",
       "      <td>0.178199</td>\n",
       "      <td>0.307316</td>\n",
       "      <td>1.000000</td>\n",
       "      <td>0.258038</td>\n",
       "    </tr>\n",
       "    <tr>\n",
       "      <th>target</th>\n",
       "      <td>0.206426</td>\n",
       "      <td>0.082899</td>\n",
       "      <td>0.129138</td>\n",
       "      <td>0.093857</td>\n",
       "      <td>0.022044</td>\n",
       "      <td>0.008175</td>\n",
       "      <td>-0.070096</td>\n",
       "      <td>-0.051548</td>\n",
       "      <td>0.299270</td>\n",
       "      <td>0.258038</td>\n",
       "      <td>1.000000</td>\n",
       "    </tr>\n",
       "  </tbody>\n",
       "</table>\n",
       "</div>"
      ],
      "text/plain": [
       "               age       sex        cp  trestbps      chol       fbs  \\\n",
       "age       1.000000  0.060245  0.038765  0.210168  0.094531  0.162679   \n",
       "sex       0.060245  1.000000  0.003219  0.013132 -0.188673 -0.112769   \n",
       "cp        0.038765  0.003219  1.000000  0.096500  0.068889 -0.138458   \n",
       "trestbps  0.210168  0.013132  0.096500  1.000000  0.174400  0.227699   \n",
       "chol      0.094531 -0.188673  0.068889  0.174400  1.000000  0.167138   \n",
       "fbs       0.162679 -0.112769 -0.138458  0.227699  0.167138  1.000000   \n",
       "restecg   0.061693  0.033030 -0.026294  0.106650  0.022076  0.150735   \n",
       "thalach  -0.174125 -0.001747 -0.160306 -0.011151 -0.043709  0.044988   \n",
       "exang     0.156823  0.018155  0.235935  0.220104  0.097098 -0.255473   \n",
       "oldpeak   0.181231  0.107372  0.044499  0.111299  0.007984 -0.122306   \n",
       "target    0.206426  0.082899  0.129138  0.093857  0.022044  0.008175   \n",
       "\n",
       "           restecg   thalach     exang   oldpeak    target  \n",
       "age       0.061693 -0.174125  0.156823  0.181231  0.206426  \n",
       "sex       0.033030 -0.001747  0.018155  0.107372  0.082899  \n",
       "cp       -0.026294 -0.160306  0.235935  0.044499  0.129138  \n",
       "trestbps  0.106650 -0.011151  0.220104  0.111299  0.093857  \n",
       "chol      0.022076 -0.043709  0.097098  0.007984  0.022044  \n",
       "fbs       0.150735  0.044988 -0.255473 -0.122306  0.008175  \n",
       "restecg   1.000000  0.014274 -0.093141 -0.122286 -0.070096  \n",
       "thalach   0.014274  1.000000 -0.075057  0.178199 -0.051548  \n",
       "exang    -0.093141 -0.075057  1.000000  0.307316  0.299270  \n",
       "oldpeak  -0.122286  0.178199  0.307316  1.000000  0.258038  \n",
       "target   -0.070096 -0.051548  0.299270  0.258038  1.000000  "
      ]
     },
     "execution_count": 18,
     "metadata": {},
     "output_type": "execute_result"
    }
   ],
   "source": [
    "hd.corr()"
   ]
  },
  {
   "cell_type": "code",
   "execution_count": 19,
   "metadata": {},
   "outputs": [
    {
     "data": {
      "text/plain": [
       "<matplotlib.axes._subplots.AxesSubplot at 0x21ddcf422e0>"
      ]
     },
     "execution_count": 19,
     "metadata": {},
     "output_type": "execute_result"
    },
    {
     "data": {
      "image/png": "[encoded data removed]",
      "text/plain": [
       "<Figure size 720x576 with 2 Axes>"
      ]
     },
     "metadata": {
      "needs_background": "light"
     },
     "output_type": "display_data"
    }
   ],
   "source": [
    "plt.figure(figsize=(10,8))\n",
    "sns.heatmap(hd.corr(), annot=True)"
   ]
  },
  {
   "cell_type": "markdown",
   "metadata": {},
   "source": [
    "## Data Visualization"
   ]
  },
  {
   "cell_type": "markdown",
   "metadata": {},
   "source": [
    "### Univarient Analysis"
   ]
  },
  {
   "cell_type": "code",
   "execution_count": 20,
   "metadata": {},
   "outputs": [
    {
     "data": {
      "text/plain": [
       "Text(0.5, 0, 'Target')"
      ]
     },
     "execution_count": 20,
     "metadata": {},
     "output_type": "execute_result"
    },
    {
     "data": {
      "image/png": "[encoded data removed]",
      "text/plain": [
       "<Figure size 360x360 with 1 Axes>"
      ]
     },
     "metadata": {
      "needs_background": "light"
     },
     "output_type": "display_data"
    }
   ],
   "source": [
    "# Bar Chart to indicate the number of regions \n",
    "plt.figure(figsize=[5,5])\n",
    "sns.set(style='white')\n",
    "sns.countplot(x = 'target', data = hd)\n",
    "plt.ylabel('Count', fontsize=15)\n",
    "plt.xlabel('Target', fontsize=15)\n",
    "#plt.xticks(rotation = 90, fontsize=10)"
   ]
  },
  {
   "cell_type": "markdown",
   "metadata": {},
   "source": [
    "Observation: we can observe that the number of people with heart disease is more than with a number of people having no heart disease"
   ]
  },
  {
   "cell_type": "code",
   "execution_count": 21,
   "metadata": {},
   "outputs": [
    {
     "data": {
      "text/plain": [
       "Text(0.5, 0, 'Region')"
      ]
     },
     "execution_count": 21,
     "metadata": {},
     "output_type": "execute_result"
    },
    {
     "data": {
      "image/png": "[encoded data removed]",
      "text/plain": [
       "<Figure size 2160x1440 with 1 Axes>"
      ]
     },
     "metadata": {},
     "output_type": "display_data"
    }
   ],
   "source": [
    "plt.figure(figsize=[30,20])\n",
    "sns.countplot(hd[\"age\"])\n",
    "plt.ylabel('Count', fontsize=30)\n",
    "plt.xlabel('Region', fontsize=30)"
   ]
  },
  {
   "cell_type": "markdown",
   "metadata": {},
   "source": [
    "Observation: we have a normal distribution, after 63 years old, your chance of heart disease decreases"
   ]
  },
  {
   "cell_type": "code",
   "execution_count": null,
   "metadata": {},
   "outputs": [],
   "source": []
  },
  {
   "cell_type": "code",
   "execution_count": null,
   "metadata": {},
   "outputs": [],
   "source": []
  },
  {
   "cell_type": "code",
   "execution_count": null,
   "metadata": {},
   "outputs": [],
   "source": []
  },
  {
   "cell_type": "markdown",
   "metadata": {},
   "source": [
    "### Bivarient Analysis"
   ]
  },
  {
   "cell_type": "code",
   "execution_count": 22,
   "metadata": {},
   "outputs": [
    {
     "data": {
      "text/plain": [
       "Text(0.5, 1.0, 'Gender v/s target\\n')"
      ]
     },
     "execution_count": 22,
     "metadata": {},
     "output_type": "execute_result"
    },
    {
     "data": {
      "image/png": "[encoded data removed]",
      "text/plain": [
       "<Figure size 432x288 with 1 Axes>"
      ]
     },
     "metadata": {},
     "output_type": "display_data"
    }
   ],
   "source": [
    "sns.countplot(data= hd, x='sex',hue='target')\n",
    "plt.title('Gender v/s target\\n')"
   ]
  },
  {
   "cell_type": "code",
   "execution_count": 23,
   "metadata": {},
   "outputs": [
    {
     "data": {
      "text/plain": [
       "Text(0.5, 1.0, 'Chest Pain Type v/s target\\n')"
      ]
     },
     "execution_count": 23,
     "metadata": {},
     "output_type": "execute_result"
    },
    {
     "data": {
      "image/png": "[encoded data removed]",
      "text/plain": [
       "<Figure size 432x288 with 1 Axes>"
      ]
     },
     "metadata": {},
     "output_type": "display_data"
    }
   ],
   "source": [
    "sns.countplot(data= hd, x='cp',hue='target')\n",
    "plt.title('Chest Pain Type v/s target\\n')"
   ]
  },
  {
   "cell_type": "markdown",
   "metadata": {},
   "source": [
    "Observation: Most of the Heart Disease patients are found to have 4th type chest pain"
   ]
  },
  {
   "cell_type": "code",
   "execution_count": 24,
   "metadata": {},
   "outputs": [
    {
     "data": {
      "text/plain": [
       "Text(0.5, 1.0, 'Age v/s Target\\n')"
      ]
     },
     "execution_count": 24,
     "metadata": {},
     "output_type": "execute_result"
    },
    {
     "data": {
      "image/png": "[encoded data removed]",
      "text/plain": [
       "<Figure size 1440x1080 with 1 Axes>"
      ]
     },
     "metadata": {},
     "output_type": "display_data"
    }
   ],
   "source": [
    "plt.figure(figsize=[20,15])\n",
    "sns.countplot(data= hd, x='age',hue='target')\n",
    "plt.title('Age v/s Target\\n')"
   ]
  },
  {
   "cell_type": "markdown",
   "metadata": {},
   "source": [
    "Observation: Age at 55, 64, 63 are suffering more heart dieases"
   ]
  },
  {
   "cell_type": "markdown",
   "metadata": {},
   "source": [
    "## Plotting the Outliers"
   ]
  },
  {
   "cell_type": "code",
   "execution_count": 25,
   "metadata": {},
   "outputs": [
    {
     "data": {
      "image/png": "[encoded data removed]",
      "text/plain": [
       "<Figure size 2160x4320 with 11 Axes>"
      ]
     },
     "metadata": {},
     "output_type": "display_data"
    }
   ],
   "source": [
    "col = hd.columns.values\n",
    "ncol = 17\n",
    "nrow = 10\n",
    "\n",
    "plt.figure(figsize=(30, 60))\n",
    "for i in range(0, len(col)):\n",
    "    plt.subplot(nrow, ncol, i+1)\n",
    "    sns.boxplot(hd[col[i]], color='orange', orient='v')\n",
    "    plt.tight_layout()"
   ]
  },
  {
   "cell_type": "markdown",
   "metadata": {},
   "source": [
    "## Distribution of Skewness"
   ]
  },
  {
   "cell_type": "code",
   "execution_count": 26,
   "metadata": {},
   "outputs": [
    {
     "data": {
      "image/png": "[encoded data removed]",
      "text/plain": [
       "<Figure size 2880x2880 with 11 Axes>"
      ]
     },
     "metadata": {},
     "output_type": "display_data"
    }
   ],
   "source": [
    "plt.figure(figsize=(40, 40))\n",
    "for i in range(0, len(col)):\n",
    "    plt.subplot(nrow, ncol, i+1)\n",
    "    sns.distplot(hd[col[i]], color='brown')\n",
    "    plt.tight_layout()"
   ]
  },
  {
   "cell_type": "code",
   "execution_count": 27,
   "metadata": {},
   "outputs": [
    {
     "data": {
      "text/plain": [
       "age        -0.400521\n",
       "sex        -5.194676\n",
       "cp         -1.990051\n",
       "trestbps   -1.287217\n",
       "chol       -0.518830\n",
       "fbs         0.781077\n",
       "restecg     0.430626\n",
       "thalach     0.127674\n",
       "exang      -0.618119\n",
       "oldpeak     0.353640\n",
       "target     -1.382360\n",
       "dtype: float64"
      ]
     },
     "execution_count": 27,
     "metadata": {},
     "output_type": "execute_result"
    }
   ],
   "source": [
    "hd.skew()"
   ]
  },
  {
   "cell_type": "markdown",
   "metadata": {},
   "source": [
    "## Removing Outliers"
   ]
  },
  {
   "cell_type": "code",
   "execution_count": 28,
   "metadata": {},
   "outputs": [
    {
     "name": "stdout",
     "output_type": "stream",
     "text": [
      "(147, 11)\n",
      "(137, 11)\n"
     ]
    }
   ],
   "source": [
    "# Check the Outliers\n",
    "from scipy.stats import zscore\n",
    "\n",
    "# Take without categorical\n",
    "z_score = abs(zscore(hd))\n",
    "print(hd.shape)\n",
    "\n",
    "df_final = hd.loc[(z_score < 3).all(axis=1)]\n",
    "print(df_final.shape)"
   ]
  },
  {
   "cell_type": "markdown",
   "metadata": {},
   "source": [
    "## Model Training"
   ]
  },
  {
   "cell_type": "markdown",
   "metadata": {},
   "source": [
    "Now our data are ready!\n",
    "\n",
    "According to the data, our Target variable 'target' is discrete, so our model is Classification.\n",
    "\n",
    "Let's now begin to train out Classification model!\n",
    "\n",
    "We will need to first split up our data into an X array that contains the features to train on, and y array with the target variable"
   ]
  },
  {
   "cell_type": "code",
   "execution_count": 29,
   "metadata": {},
   "outputs": [],
   "source": [
    "# Separationg independent & dependent variables\n",
    "\n",
    "df_x = df_final.drop(columns=['target'])\n",
    "df_y = df_final['target']"
   ]
  },
  {
   "cell_type": "code",
   "execution_count": 30,
   "metadata": {},
   "outputs": [],
   "source": [
    "# Scaling the input variable\n",
    "\n",
    "from sklearn.preprocessing import StandardScaler\n",
    "\n",
    "ss = StandardScaler()\n",
    "x = ss.fit_transform(df_x)"
   ]
  },
  {
   "cell_type": "code",
   "execution_count": 31,
   "metadata": {},
   "outputs": [
    {
     "name": "stdout",
     "output_type": "stream",
     "text": [
      "Max accuracy_score 0.9047619047619048 according to random state : 24\n"
     ]
    }
   ],
   "source": [
    "from sklearn.model_selection import train_test_split\n",
    "from sklearn.linear_model import LogisticRegression\n",
    "from sklearn.metrics import accuracy_score, confusion_matrix, classification_report, f1_score\n",
    "\n",
    "max_acc_scr = 0\n",
    "for r_st in range(10, 25):\n",
    "    x_train, x_test, y_train, y_test = train_test_split(x, df_y, test_size = 0.3, random_state = r_st)\n",
    "    reg = LogisticRegression()\n",
    "    reg.fit(x_train, y_train)\n",
    "    y_pred = reg.predict(x_test)\n",
    "    \n",
    "    acc_scr = accuracy_score(y_test, y_pred)\n",
    "    \n",
    "    if max_acc_scr < acc_scr:\n",
    "        max_acc_scr = acc_scr\n",
    "        final_r_st = r_st\n",
    "print('Max accuracy_score %s according to random state : %s' %(max_acc_scr, r_st))"
   ]
  },
  {
   "cell_type": "code",
   "execution_count": 32,
   "metadata": {},
   "outputs": [],
   "source": [
    "from sklearn.naive_bayes import GaussianNB\n",
    "from sklearn.tree import DecisionTreeClassifier\n",
    "from sklearn.svm import SVC\n",
    "from sklearn.neighbors import KNeighborsClassifier"
   ]
  },
  {
   "cell_type": "code",
   "execution_count": 33,
   "metadata": {},
   "outputs": [],
   "source": [
    "# Breaking input & target variables\n",
    "\n",
    "from sklearn.model_selection import train_test_split\n",
    "\n",
    "x_train, x_test, y_train, y_test = train_test_split(x, df_y, test_size=.3, random_state=20)"
   ]
  },
  {
   "cell_type": "code",
   "execution_count": 34,
   "metadata": {},
   "outputs": [
    {
     "name": "stdout",
     "output_type": "stream",
     "text": [
      "\n",
      "*************** LogisticRegression() Model ***************\n",
      "\n",
      "Score of LogisticRegression() Model is 0.7578947368421053\n",
      "Accuracy_score: 0.9047619047619048\n",
      "Confusion Matrix : \n",
      " [[ 1  5]\n",
      " [ 4 32]]\n",
      "\n",
      "Classification Report : \n",
      "               precision    recall  f1-score   support\n",
      "\n",
      "           0       0.20      0.17      0.18         6\n",
      "           1       0.86      0.89      0.88        36\n",
      "\n",
      "    accuracy                           0.79        42\n",
      "   macro avg       0.53      0.53      0.53        42\n",
      "weighted avg       0.77      0.79      0.78        42\n",
      "\n",
      "F1 Score:  90.48\n",
      "\n",
      "*************** DecisionTreeClassifier() Model ***************\n",
      "\n",
      "Score of DecisionTreeClassifier() Model is 1.0\n",
      "Accuracy_score: 0.5714285714285714\n",
      "Confusion Matrix : \n",
      " [[ 1  5]\n",
      " [ 4 32]]\n",
      "\n",
      "Classification Report : \n",
      "               precision    recall  f1-score   support\n",
      "\n",
      "           0       0.20      0.17      0.18         6\n",
      "           1       0.86      0.89      0.88        36\n",
      "\n",
      "    accuracy                           0.79        42\n",
      "   macro avg       0.53      0.53      0.53        42\n",
      "weighted avg       0.77      0.79      0.78        42\n",
      "\n",
      "F1 Score:  57.14\n",
      "\n",
      "*************** KNeighborsClassifier() Model ***************\n",
      "\n",
      "Score of KNeighborsClassifier() Model is 0.7894736842105263\n",
      "Accuracy_score: 0.9761904761904762\n",
      "Confusion Matrix : \n",
      " [[ 1  5]\n",
      " [ 4 32]]\n",
      "\n",
      "Classification Report : \n",
      "               precision    recall  f1-score   support\n",
      "\n",
      "           0       0.20      0.17      0.18         6\n",
      "           1       0.86      0.89      0.88        36\n",
      "\n",
      "    accuracy                           0.79        42\n",
      "   macro avg       0.53      0.53      0.53        42\n",
      "weighted avg       0.77      0.79      0.78        42\n",
      "\n",
      "F1 Score:  97.62\n",
      "\n",
      "*************** SVC() Model ***************\n",
      "\n",
      "Score of SVC() Model is 0.8105263157894737\n",
      "Accuracy_score: 0.8571428571428571\n",
      "Confusion Matrix : \n",
      " [[ 1  5]\n",
      " [ 4 32]]\n",
      "\n",
      "Classification Report : \n",
      "               precision    recall  f1-score   support\n",
      "\n",
      "           0       0.20      0.17      0.18         6\n",
      "           1       0.86      0.89      0.88        36\n",
      "\n",
      "    accuracy                           0.79        42\n",
      "   macro avg       0.53      0.53      0.53        42\n",
      "weighted avg       0.77      0.79      0.78        42\n",
      "\n",
      "F1 Score:  85.71\n",
      "\n",
      "*************** GaussianNB() Model ***************\n",
      "\n",
      "Score of GaussianNB() Model is 0.7473684210526316\n",
      "Accuracy_score: 0.8571428571428571\n",
      "Confusion Matrix : \n",
      " [[ 1  5]\n",
      " [ 4 32]]\n",
      "\n",
      "Classification Report : \n",
      "               precision    recall  f1-score   support\n",
      "\n",
      "           0       0.20      0.17      0.18         6\n",
      "           1       0.86      0.89      0.88        36\n",
      "\n",
      "    accuracy                           0.79        42\n",
      "   macro avg       0.53      0.53      0.53        42\n",
      "weighted avg       0.77      0.79      0.78        42\n",
      "\n",
      "F1 Score:  85.71\n"
     ]
    }
   ],
   "source": [
    "# Using model via for loop\n",
    "\n",
    "model = [LogisticRegression(), DecisionTreeClassifier(), KNeighborsClassifier(), SVC(), GaussianNB()]\n",
    "\n",
    "for m in model:\n",
    "    print('\\n*************** %s Model ***************\\n' % m)\n",
    "    m.fit(x_train, y_train)\n",
    "    print('Score of %s Model is %s' % (m, m.score(x_train, y_train)))\n",
    "    predm = m.predict(x_test)\n",
    "    print('Accuracy_score: %s' % (accuracy_score(y_test, predm)))\n",
    "    print('Confusion Matrix : \\n', confusion_matrix(y_test, y_pred))\n",
    "    print('\\nClassification Report : \\n', classification_report(y_test, y_pred))\n",
    "    print('F1 Score: ',round(f1_score(y_test, predm, average='micro')*100,2))"
   ]
  },
  {
   "cell_type": "markdown",
   "metadata": {},
   "source": [
    "Observation: **KNeighborsClassifier() Model is better because f1_score and accuracy_score is better than other models**"
   ]
  },
  {
   "cell_type": "code",
   "execution_count": 35,
   "metadata": {},
   "outputs": [
    {
     "name": "stdout",
     "output_type": "stream",
     "text": [
      "\n",
      "*************** LogisticRegression() Model ***************\n",
      "\n",
      "Score of LogisticRegression() Model is [0.82142857 0.78571429 0.77777778 0.74074074 0.7037037 ]\n",
      "Mean score:  0.7658730158730159\n",
      "Std score :  0.04029509579822173\n",
      "Min score :  0.7037037037037037\n",
      "Max score :  0.8214285714285714\n",
      "\n",
      "*************** DecisionTreeClassifier() Model ***************\n",
      "\n",
      "Score of DecisionTreeClassifier() Model is [0.75       0.78571429 0.7037037  0.62962963 0.59259259]\n",
      "Mean score:  0.6923280423280423\n",
      "Std score :  0.07218684328335376\n",
      "Min score :  0.5925925925925926\n",
      "Max score :  0.7857142857142857\n",
      "\n",
      "*************** KNeighborsClassifier() Model ***************\n",
      "\n",
      "Score of KNeighborsClassifier() Model is [0.89285714 0.78571429 0.77777778 0.81481481 0.74074074]\n",
      "Mean score:  0.8023809523809524\n",
      "Std score :  0.05103557905518519\n",
      "Min score :  0.7407407407407407\n",
      "Max score :  0.8928571428571429\n",
      "\n",
      "*************** SVC() Model ***************\n",
      "\n",
      "Score of SVC() Model is [0.78571429 0.78571429 0.7037037  0.74074074 0.77777778]\n",
      "Mean score:  0.7587301587301587\n",
      "Std score :  0.032157823066714795\n",
      "Min score :  0.7037037037037037\n",
      "Max score :  0.7857142857142857\n",
      "\n",
      "*************** GaussianNB() Model ***************\n",
      "\n",
      "Score of GaussianNB() Model is [0.78571429 0.75       0.77777778 0.81481481 0.59259259]\n",
      "Mean score:  0.7441798941798942\n",
      "Std score :  0.07855672995965064\n",
      "Min score :  0.5925925925925926\n",
      "Max score :  0.8148148148148148\n"
     ]
    }
   ],
   "source": [
    "# Cross Validation\n",
    "\n",
    "from sklearn.model_selection import cross_val_score\n",
    "\n",
    "model = [LogisticRegression(), DecisionTreeClassifier(), KNeighborsClassifier(), SVC(), GaussianNB()]\n",
    "\n",
    "for m in model:\n",
    "    print('\\n*************** %s Model ***************\\n' % m)\n",
    "    cv_score = cross_val_score(m, x, df_y, cv=5, scoring = 'accuracy')\n",
    "    print('Score of %s Model is %s' % (m, cv_score))\n",
    "    print('Mean score: ', cv_score.mean())\n",
    "    print('Std score : ', cv_score.std())\n",
    "    print('Min score : ', cv_score.min())\n",
    "    print('Max score : ', cv_score.max())"
   ]
  },
  {
   "cell_type": "markdown",
   "metadata": {},
   "source": [
    "Observation: **KNeighborsClassifier()** scores are better than other model"
   ]
  },
  {
   "cell_type": "code",
   "execution_count": 36,
   "metadata": {},
   "outputs": [
    {
     "name": "stdout",
     "output_type": "stream",
     "text": [
      "Best parameters set: {'n_jobs': 2, 'n_neighbors': 8}\n"
     ]
    }
   ],
   "source": [
    "# KNeighborsClassifier model will give the best parameters using GridSearchCV\n",
    "\n",
    "from sklearn.model_selection import GridSearchCV\n",
    "\n",
    "ridge = KNeighborsClassifier()\n",
    "param = [{'n_neighbors':np.arange(2,33),'n_jobs':[2,6]}]\n",
    "\n",
    "gsknn=GridSearchCV(KNeighborsClassifier(),param,scoring='accuracy')\n",
    "gsknn.fit(x_train,y_train)\n",
    "print('Best parameters set:',gsknn.best_params_)"
   ]
  },
  {
   "cell_type": "code",
   "execution_count": 37,
   "metadata": {},
   "outputs": [
    {
     "name": "stdout",
     "output_type": "stream",
     "text": [
      "Score is 0.7684210526315789\n",
      "Accuracy_score: 0.9523809523809523\n",
      "Confusion Matrix : \n",
      " [[ 6  0]\n",
      " [ 2 34]]\n",
      "\n",
      "Classification Report : \n",
      "               precision    recall  f1-score   support\n",
      "\n",
      "           0       0.75      1.00      0.86         6\n",
      "           1       1.00      0.94      0.97        36\n",
      "\n",
      "    accuracy                           0.95        42\n",
      "   macro avg       0.88      0.97      0.91        42\n",
      "weighted avg       0.96      0.95      0.96        42\n",
      "\n",
      "F1 Score:  95.24\n"
     ]
    }
   ],
   "source": [
    "# using KNeighborsClassifier model with best results\n",
    "\n",
    "knn = KNeighborsClassifier(n_jobs=2, n_neighbors=8)\n",
    "knn.fit(x_train, y_train)\n",
    "\n",
    "print('Score is %s' % knn.score(x_train, y_train))\n",
    "predknn = knn.predict(x_test)\n",
    "print('Accuracy_score: %s' % (accuracy_score(y_test, predknn)))\n",
    "print('Confusion Matrix : \\n', confusion_matrix(y_test, predknn))\n",
    "print('\\nClassification Report : \\n', classification_report(y_test, predknn))\n",
    "print('F1 Score: ',round(f1_score(y_test, predknn, average='micro')*100,2))"
   ]
  },
  {
   "cell_type": "code",
   "execution_count": 38,
   "metadata": {},
   "outputs": [
    {
     "name": "stdout",
     "output_type": "stream",
     "text": [
      "Score is [0.82142857 0.78571429 0.77777778 0.85185185 0.7037037 ]\n",
      "Mean score:  0.7880952380952381\n",
      "Std score :  0.04981980912733689\n",
      "Min score :  0.7037037037037037\n",
      "Max score :  0.8518518518518519\n"
     ]
    }
   ],
   "source": [
    "score = cross_val_score(knn, x, df_y, cv=5, scoring = 'accuracy')\n",
    "print('Score is %s' % score)\n",
    "print('Mean score: ', score.mean())\n",
    "print('Std score : ', score.std())\n",
    "print('Min score : ', score.min())\n",
    "print('Max score : ', score.max())"
   ]
  },
  {
   "cell_type": "markdown",
   "metadata": {},
   "source": [
    "### AUC ROC"
   ]
  },
  {
   "cell_type": "code",
   "execution_count": 39,
   "metadata": {},
   "outputs": [],
   "source": [
    "from sklearn.metrics import roc_curve, auc\n",
    "from sklearn.metrics import roc_auc_score"
   ]
  },
  {
   "cell_type": "code",
   "execution_count": 40,
   "metadata": {},
   "outputs": [
    {
     "data": {
      "text/plain": [
       "array([0.6, 0.6, 0.8, 0.4, 0.8, 0.8, 0.2, 0.8, 1. , 0.8, 0.8, 0.8, 1. ,\n",
       "       0.6, 0.8, 0.6, 0.4, 0.8, 1. , 1. , 1. , 0.8, 1. , 1. , 0.4, 0.6,\n",
       "       0.8, 0.6, 0.8, 0.6, 0.8, 0.8, 0.8, 0.6, 1. , 0.4, 0.6, 0.6, 0.8,\n",
       "       1. , 0.6, 0.8])"
      ]
     },
     "execution_count": 40,
     "metadata": {},
     "output_type": "execute_result"
    }
   ],
   "source": [
    "knn = KNeighborsClassifier()\n",
    "knn.fit(x_train, y_train)\n",
    "pred = knn.predict(x_test)\n",
    "y_pred_prob = knn.predict_proba(x_test)[:, 1] # it can be 1 or 0 that means check the 1's i.e. having heart diease in test_x\n",
    "y_pred_prob"
   ]
  },
  {
   "cell_type": "code",
   "execution_count": 41,
   "metadata": {},
   "outputs": [],
   "source": [
    "# False Positive Rate & True Positive Rate\n",
    "\n",
    "fpr, tpr, thresholds = roc_curve(y_test, y_pred_prob)"
   ]
  },
  {
   "cell_type": "code",
   "execution_count": 42,
   "metadata": {},
   "outputs": [
    {
     "data": {
      "text/plain": [
       "array([0.        , 0.        , 0.        , 0.16666667, 0.83333333,\n",
       "       1.        ])"
      ]
     },
     "execution_count": 42,
     "metadata": {},
     "output_type": "execute_result"
    }
   ],
   "source": [
    "fpr"
   ]
  },
  {
   "cell_type": "code",
   "execution_count": 43,
   "metadata": {},
   "outputs": [
    {
     "data": {
      "text/plain": [
       "array([0.        , 0.25      , 0.72222222, 1.        , 1.        ,\n",
       "       1.        ])"
      ]
     },
     "execution_count": 43,
     "metadata": {},
     "output_type": "execute_result"
    }
   ],
   "source": [
    "tpr"
   ]
  },
  {
   "cell_type": "code",
   "execution_count": 44,
   "metadata": {},
   "outputs": [
    {
     "data": {
      "text/plain": [
       "array([2. , 1. , 0.8, 0.6, 0.4, 0.2])"
      ]
     },
     "execution_count": 44,
     "metadata": {},
     "output_type": "execute_result"
    }
   ],
   "source": [
    "thresholds"
   ]
  },
  {
   "cell_type": "code",
   "execution_count": 45,
   "metadata": {},
   "outputs": [
    {
     "name": "stdout",
     "output_type": "stream",
     "text": [
      "ROC AUC Score:  0.9768518518518519\n"
     ]
    }
   ],
   "source": [
    "print('ROC AUC Score: ', roc_auc_score(y_test, y_pred_prob))"
   ]
  },
  {
   "cell_type": "code",
   "execution_count": 46,
   "metadata": {},
   "outputs": [
    {
     "data": {
      "image/png": "[encoded data removed]",
      "text/plain": [
       "<Figure size 432x288 with 1 Axes>"
      ]
     },
     "metadata": {},
     "output_type": "display_data"
    }
   ],
   "source": [
    "plt.plot([0,1], [0,1], 'k--')\n",
    "plt.plot(fpr, tpr, label='KNN Classification')\n",
    "plt.xlabel('False Positive Rate')\n",
    "plt.ylabel('True Positive Rate')\n",
    "plt.title('KNN Classification')\n",
    "plt.show()"
   ]
  },
  {
   "cell_type": "code",
   "execution_count": 47,
   "metadata": {},
   "outputs": [
    {
     "name": "stdout",
     "output_type": "stream",
     "text": [
      "AUC Score: 0.9166666666666667\n"
     ]
    }
   ],
   "source": [
    "auc_score = roc_auc_score(y_test, knn.predict(x_test))\n",
    "print('AUC Score:', auc_score)"
   ]
  },
  {
   "cell_type": "code",
   "execution_count": 48,
   "metadata": {},
   "outputs": [
    {
     "name": "stdout",
     "output_type": "stream",
     "text": [
      "KNN Classification AUC:  0.9768518518518519\n"
     ]
    }
   ],
   "source": [
    "print('KNN Classification AUC: ', auc(fpr, tpr))"
   ]
  },
  {
   "cell_type": "markdown",
   "metadata": {},
   "source": [
    "## Using Ensemble Technique to Boostup our Score"
   ]
  },
  {
   "cell_type": "code",
   "execution_count": 49,
   "metadata": {},
   "outputs": [],
   "source": [
    "from sklearn.ensemble import RandomForestClassifier, AdaBoostClassifier, GradientBoostingClassifier"
   ]
  },
  {
   "cell_type": "code",
   "execution_count": 50,
   "metadata": {},
   "outputs": [
    {
     "name": "stdout",
     "output_type": "stream",
     "text": [
      "Accuracy Score:  0.8571428571428571\n",
      "Confusion Matrix : \n",
      " [[ 3  3]\n",
      " [ 3 33]]\n",
      "\n",
      "Classification Report : \n",
      "               precision    recall  f1-score   support\n",
      "\n",
      "           0       0.50      0.50      0.50         6\n",
      "           1       0.92      0.92      0.92        36\n",
      "\n",
      "    accuracy                           0.86        42\n",
      "   macro avg       0.71      0.71      0.71        42\n",
      "weighted avg       0.86      0.86      0.86        42\n",
      "\n",
      "F1 Score:  85.71\n"
     ]
    }
   ],
   "source": [
    "rf = RandomForestClassifier(n_estimators=100, random_state=20)\n",
    "\n",
    "# RandomForestClassifier(100)  --> by Default\n",
    "\n",
    "rf.fit(x_train, y_train)\n",
    "predrf= rf.predict(x_test)\n",
    "\n",
    "print('Accuracy Score: ',accuracy_score(y_test, predrf))\n",
    "print('Confusion Matrix : \\n', confusion_matrix(y_test, predrf))\n",
    "print('\\nClassification Report : \\n', classification_report(y_test, predrf))\n",
    "print('F1 Score: ',round(f1_score(y_test, predrf, average='micro')*100,2))"
   ]
  },
  {
   "cell_type": "code",
   "execution_count": 51,
   "metadata": {},
   "outputs": [
    {
     "name": "stdout",
     "output_type": "stream",
     "text": [
      "Accuracy Score: 0.8333333333333334\n",
      "Confusion Matrix : \n",
      " [[ 3  3]\n",
      " [ 4 32]]\n",
      "\n",
      "Classification Report : \n",
      "               precision    recall  f1-score   support\n",
      "\n",
      "           0       0.43      0.50      0.46         6\n",
      "           1       0.91      0.89      0.90        36\n",
      "\n",
      "    accuracy                           0.83        42\n",
      "   macro avg       0.67      0.69      0.68        42\n",
      "weighted avg       0.84      0.83      0.84        42\n",
      "\n",
      "F1 Score:  83.33\n"
     ]
    }
   ],
   "source": [
    "# AdaBoostClassifier(base_estimator=DecisionTreeClassifier(), n_estimator=50, learning_rate=1.0)\n",
    "ad = AdaBoostClassifier()\n",
    "ad.fit(x_train, y_train)\n",
    "ad_pred = ad.predict(x_test)\n",
    "print('Accuracy Score:', accuracy_score(y_test, ad_pred))\n",
    "print('Confusion Matrix : \\n', confusion_matrix(y_test, ad_pred))\n",
    "print('\\nClassification Report : \\n', classification_report(y_test, ad_pred))\n",
    "print('F1 Score: ',round(f1_score(y_test, ad_pred, average='micro')*100,2))"
   ]
  },
  {
   "cell_type": "markdown",
   "metadata": {},
   "source": [
    "Observation: The Area under the ROC curve is 97.7% which is working well beacuse it gives the best score"
   ]
  },
  {
   "cell_type": "code",
   "execution_count": 52,
   "metadata": {},
   "outputs": [],
   "source": [
    "# Saving the predicted value to .csv\n",
    "\n",
    "prediction = pd.DataFrame(pred, columns=['Predictions']).to_csv('Data/Predicted_heart_diease.csv')"
   ]
  },
  {
   "cell_type": "code",
   "execution_count": 53,
   "metadata": {},
   "outputs": [
    {
     "data": {
      "text/plain": [
       "['auc_heart_diease.pkl']"
      ]
     },
     "execution_count": 53,
     "metadata": {},
     "output_type": "execute_result"
    }
   ],
   "source": [
    "# Saving RandomForestRegressor\n",
    "\n",
    "import joblib\n",
    "joblib.dump(rf, 'auc_heart_diease.pkl')"
   ]
  },
  {
   "cell_type": "markdown",
   "metadata": {},
   "source": [
    "## Conclusion:\n",
    "The Area under the ROC curve is 97.7% with KNN Classifier model which is working well beacuse it gives the best score\n",
    "\n",
    "The model predicted with 95.2% accuracy. The model is more specific than sensitive."
   ]
  }
 ],
 "metadata": {
  "kernelspec": {
   "display_name": "Python 3",
   "language": "python",
   "name": "python3"
  },
  "language_info": {
   "codemirror_mode": {
    "name": "ipython",
    "version": 3
   },
   "file_extension": ".py",
   "mimetype": "text/x-python",
   "name": "python",
   "nbconvert_exporter": "python",
   "pygments_lexer": "ipython3",
   "version": "3.8.3"
  }
 },
 "nbformat": 4,
 "nbformat_minor": 4
}
